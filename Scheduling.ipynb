{
 "cells": [
  {
   "cell_type": "code",
   "execution_count": 36,
   "id": "f1e37cf8",
   "metadata": {},
   "outputs": [],
   "source": [
    "import pandas as pd\n",
    "import sys\n",
    "import math\n",
    "import random\n",
    "import plotly.figure_factory as ff\n",
    "from collections import defaultdict\n",
    "from sympy import Union\n",
    "from sympy import Interval as SympyInterval"
   ]
  },
  {
   "cell_type": "code",
   "execution_count": 2,
   "id": "aa6c38d0",
   "metadata": {},
   "outputs": [],
   "source": [
    "# Активности\n",
    "class Activity:\n",
    "    def __init__(self, act_id, volume, type, direction=None, name=None):\n",
    "        self.act_id = act_id\n",
    "        self.volume = volume\n",
    "        self.type = type\n",
    "        self.direction = direction\n",
    "        self.name = name\n",
    "        self.label = f\"{self.type}_{act_id}\" \n",
    "        self.MACHINES = []  # Список машин с производительностями\n",
    "        self.INTERVALS = [] # Список интервалов\n",
    "        \n",
    "\n",
    "    def add_machine(self, machine):\n",
    "        self.MACHINES.append(machine)\n",
    "        \n",
    "    def add_interval(self, interval):\n",
    "        self.INTERVALS.append(interval)\n",
    "        \n",
    "        \n",
    "    def fill_intervals_by_number(self):\n",
    "        self.interval_by_num = defaultdict(int, {number: interval for interval in self.INTERVALS})\n",
    "\n",
    "    def __repr__(self):\n",
    "        return (f\"ACTIVITY(act_id={self.act_id}, name={self.name}, \"\n",
    "                f\"volume={self.volume}, type={self.type}, \"\n",
    "                f\"direction={self.direction},\"\n",
    "                f\"MACHINES={str(self.MACHINES)}\")\n",
    "    \n",
    "    def __eq__(self, other):\n",
    "        return self.act_id == other.act_id and self.type == other.type\n",
    "\n",
    "    def __hash__(self):\n",
    "        return hash((self.act_id, self.type))\n",
    "    \n",
    "    \n",
    "# Машины с производительностями\n",
    "class Machine:\n",
    "    def __init__(self, machine_id, power, type=None, name=None):\n",
    "        self.machine_id = machine_id\n",
    "        self.type = type\n",
    "        self.power = power\n",
    "        self.name = name\n",
    "        self.label = f\"Машина_{machine_id}\" \n",
    "        self.ACTIVITIES = []  # Список активностей\n",
    "        self.INTERVALS = set() # Список интервалов\n",
    "        \n",
    "    def add_activity(self, act):\n",
    "        self.ACTIVITIES.append(act)\n",
    "        \n",
    "    def add_interval(self, interval):\n",
    "        self.INTERVALS.add(interval)\n",
    "        \n",
    "    def __repr__(self):\n",
    "        return (f\"MACHINE(machine_id={self.machine_id}, name={self.name}, \"\n",
    "                f\"power={self.power}, type={self.type})\")\n",
    "    \n",
    "    def __eq__(self, other):\n",
    "        return self.machine_id == other.machine_id\n",
    "\n",
    "    def __hash__(self):\n",
    "        return hash(self.machine_id)\n",
    "    \n",
    "# Интервалы\n",
    "class Interval:\n",
    "    def __init__(self, start, end, duration=None, number=None):\n",
    "        self.start = start\n",
    "        self.end = end\n",
    "        self.duration = duration\n",
    "        self.number = number\n",
    "        self.ACTIVITIES = []  # Список активностей\n",
    "        self.MACHINES = []  # Список машин с производительностями\n",
    "        \n",
    "    def add_activity(self, act):\n",
    "        self.ACTIVITIES.append(act)\n",
    "    \n",
    "    def add_machine(self, machine):\n",
    "        self.MACHINES.append(machine)\n",
    "        \n",
    "    def __eq__(self, other):\n",
    "        return self.number == other.number\n",
    "\n",
    "    def __hash__(self):\n",
    "        return hash(self.number)"
   ]
  },
  {
   "cell_type": "code",
   "execution_count": 3,
   "id": "327c5361",
   "metadata": {},
   "outputs": [],
   "source": [
    "class ModelConfig:\n",
    "    \n",
    "    # Дата начала расчета (пока число)  \n",
    "    start_date = 1\n",
    "    \n",
    "    # Кол-во активностей для генерации\n",
    "    act_amt = 10\n",
    "    \n",
    "    # Кол-во машин для генерации\n",
    "    machine_amt = 10\n"
   ]
  },
  {
   "cell_type": "code",
   "execution_count": 4,
   "id": "eb09a007",
   "metadata": {},
   "outputs": [],
   "source": [
    "class ModelInput:\n",
    "    def __init__(\n",
    "            self,\n",
    "            model_config: ModelConfig\n",
    "    ):\n",
    "        print('Подготовка входных данных модели')\n",
    "        self.config: ModelConfig = model_config\n",
    "            \n",
    "        self.generate_data()\n",
    "        \n",
    "        self.calc_interval()\n",
    "        self.generate_assignments()\n",
    "        self.calc_params()\n",
    "        \n",
    "        \n",
    "    # Генерация данных\n",
    "    def generate_data(self):\n",
    "        self.ACTIVITIES = []\n",
    "        for i in range(self.config.act_amt):\n",
    "            self.ACTIVITIES.append(Activity(i, 1000, 'Бурение'))\n",
    "\n",
    "        self.MACHINES = []\n",
    "        for i in range(self.config.machine_amt):\n",
    "            self.MACHINES.append(Machine(i, 100 + 50*i))\n",
    "        \n",
    "        for i, act in enumerate(self.ACTIVITIES):\n",
    "            for j, machine in enumerate(self.MACHINES):\n",
    "#                 if i % 2 == 0 and machine.machine_id % 2 == 0:\n",
    "#                     act.add_machine(machine)\n",
    "#                 elif i % 2 != 0 and machine.machine_id % 2 != 0:\n",
    "#                     act.add_machine(machine)\n",
    "#                 else:\n",
    "#                     pass\n",
    "                if i!= 4 and i == j:\n",
    "                    act.add_machine(machine)\n",
    "                    machine.add_activity(act)\n",
    "                if i == 4 and j == 5:\n",
    "                    act.add_machine(machine)\n",
    "                    machine.add_activity(act)\n",
    "                if i == 3 and j == 8:\n",
    "                    act.add_machine(machine)\n",
    "                    machine.add_activity(act)\n",
    "        \n",
    "                \n",
    "    # Расчет максимального времени выполнения активности\n",
    "    def calc_interval(self):\n",
    "        for act in self.ACTIVITIES:\n",
    "            # Считаем, что производительность задана в одинаковых приведенных единицах\n",
    "            act.min_power = min(machine.power for machine in act.MACHINES)\n",
    "            act.max_duration = math.ceil(act.volume / act.min_power)\n",
    "\n",
    "        self.max_date = self.config.start_date + sum(act.max_duration for act in self.ACTIVITIES)\n",
    "        \n",
    "        for act in self.ACTIVITIES:\n",
    "#             act.INTERVALS = [Interval(num, num+1, 1, num) for num in range(self.config.start_date, self.max_date+1)]\n",
    "            for num in range(self.config.start_date, self.max_date+1):\n",
    "                interval = Interval(num, num+1, 1, num)\n",
    "                act.add_interval(interval)\n",
    "                for machine in act.MACHINES:\n",
    "                    machine.add_interval(interval)\n",
    "#             act.fill_intervals_by_number()\n",
    "\n",
    "        \n",
    "    \n",
    "            \n",
    "                \n",
    "    # Назначения машин на активности в интервал времени\n",
    "    def generate_assignments(self):\n",
    "        self.ASSIGNMENTS = [(act, machine, interval)\n",
    "                            for act in self.ACTIVITIES\n",
    "                            for machine in act.MACHINES\n",
    "                            for interval in act.INTERVALS]\n",
    "        \n",
    "    \n",
    "    # Расчет необходимых показателей для оптимизации\n",
    "    def calc_params(self):\n",
    "        \n",
    "        # Суммарный объем по всем активностям\n",
    "        self.sum_volume = sum(act.volume for act in self.ACTIVITIES)\n",
    "        \n",
    "        # Объединение интервалов\n",
    "#         self.ALL_INTERVALS = list(set())\n",
    "        \n",
    "\n",
    "        \n",
    "        \n",
    "        \n",
    "\n",
    "                    \n",
    "                    \n",
    "                "
   ]
  },
  {
   "cell_type": "code",
   "execution_count": 38,
   "id": "35438b7d",
   "metadata": {},
   "outputs": [
    {
     "data": {
      "text/plain": [
       "<bound method Activity.__repr__ of ACTIVITY(act_id=1, name=None, volume=1, type=1, direction=1>"
      ]
     },
     "execution_count": 38,
     "metadata": {},
     "output_type": "execute_result"
    }
   ],
   "source": [
    "a = Activity(1, 1, 1, 1)\n",
    "a.__repr__\n",
    "\n",
    "# B = Machine(1,1,1)\n",
    "# B.__repr__\n",
    "\n",
    "# class \n",
    "# # Генерация данных\n",
    "# def generate_data(act_amt: int, machine_amt: int):\n",
    "#     ACTIVITIES = []\n",
    "#     for i in range(act_amt):\n",
    "#         ACTIVITIES.append(Activity(i, 1, 100*(i+1), 1,1))\n",
    "        \n",
    "#     MACHINES = []\n",
    "#     for i in range(act_amt):\n",
    "#         ACTIVITIES.append(Activity(i, 1, 100*(i+1), 1,1))"
   ]
  },
  {
   "cell_type": "code",
   "execution_count": 5,
   "id": "e23ac630",
   "metadata": {},
   "outputs": [],
   "source": [
    "# Сбор ограничения\n",
    "def constraints_from_dict(cons, model, prefix):\n",
    "    if type(cons) is dict:\n",
    "        if not cons:\n",
    "            return\n",
    "        def rule(model, *k):\n",
    "            if len(k) == 1:\n",
    "                k = k[0]\n",
    "            ret = cons[k]\n",
    "            if ret is True:\n",
    "                return Constraint.Feasible\n",
    "            return ret\n",
    "        result = Constraint(cons.keys(), rule=rule)\n",
    "        setattr(model, prefix, result)\n",
    "    else:\n",
    "        result = Constraint(expr=cons)\n",
    "        setattr(model, prefix, result)\n",
    "\n",
    "# Получение подмножества\n",
    "def setof(indices, full_set):\n",
    "    return set([it[indices] for it in full_set])"
   ]
  },
  {
   "cell_type": "code",
   "execution_count": null,
   "id": "6a2753a5",
   "metadata": {},
   "outputs": [],
   "source": []
  },
  {
   "cell_type": "code",
   "execution_count": 138,
   "id": "b070a4df",
   "metadata": {},
   "outputs": [],
   "source": [
    "# from pyomo.environ import Var, Binary, Objective, quicksum, minimize, SolverFactory, ConcreteModel\n",
    "# from pyomo.core import value\n",
    "from pyomo.environ import *\n",
    "import pyomo.environ as pyo\n",
    "\n",
    "class Model:\n",
    "    def __init__(self, input: ModelInput) -> None:\n",
    "        self.model = ConcreteModel()\n",
    "        self.input = input\n",
    "\n",
    "        self.output = ModelOutput(\n",
    "            self.model,\n",
    "            self.input,\n",
    "        )\n",
    "\n",
    "        self.create_model()\n",
    "\n",
    "    def create_model(self):\n",
    "        print('Подготовка модели')\n",
    "\n",
    "        ## Переменные\n",
    "        # Доля и индикатор назначения машины на активность в интервал t\n",
    "        self.model.assignment = Var(self.input.ASSIGNMENTS, domain=NonNegativeReals, bounds=(0, 1), initialize=0)\n",
    "        self.model.assignment_bin = Var(self.input.ASSIGNMENTS, domain=Binary, initialize=0)\n",
    "        \n",
    "        \n",
    "        # Отклонение машины на другую активность\n",
    "        machine_diff_index = [(act, machine, interval) for machine in self.input.MACHINES\n",
    "                                      for interval in machine.INTERVALS\n",
    "                                      for act in machine.ACTIVITIES\n",
    "                                      if len(machine.ACTIVITIES) >= 2]\n",
    "        self.model.machine_diff = Var(machine_diff_index, domain=NonNegativeReals, bounds=(0, 1), initialize=0)\n",
    "\n",
    "        \n",
    "        # Накопленный невыполненный объем в интервал t\n",
    "        self.model.running_undone_volume = dict()\n",
    "        for act in self.input.ACTIVITIES:\n",
    "            # Сохраняем пройденные интервалы для ускорения расчета\n",
    "            PREV_INTERVALS = list()\n",
    "            for interval in act.INTERVALS:\n",
    "                PREV_INTERVALS.append(interval)\n",
    "                \n",
    "                self.model.running_undone_volume[act, interval] = 1 - \\\n",
    "                quicksum(\n",
    "                self.model.assignment[act, machine, prev_interval] * machine.power * interval.duration\n",
    "                    for machine in act.MACHINES\n",
    "                    for prev_interval in PREV_INTERVALS \n",
    "                ) / act.volume\n",
    "                \n",
    "\n",
    "        ## Ограничения\n",
    "\n",
    "        # Выполнение всего объема активностей\n",
    "        cons_act_volume = {}\n",
    "        for act in self.input.ACTIVITIES:\n",
    "            cons_act_volume[act] = (\n",
    "                quicksum(\n",
    "                    self.model.assignment[act, machine, interval] * machine.power * interval.duration\n",
    "                    for machine in act.MACHINES\n",
    "                    for interval in act.INTERVALS \n",
    "                )\n",
    "                ==\n",
    "                act.volume\n",
    "            )\n",
    "            \n",
    "        constraints_from_dict(cons_act_volume, self.model, 'cons_act_volume')\n",
    "        \n",
    "        # В каждый момент времени на активность назначается только одна машина\n",
    "        cons_one_machine_for_act_t = {}\n",
    "        for act in self.input.ACTIVITIES:\n",
    "            for interval in act.INTERVALS:\n",
    "                cons_one_machine_for_act_t[act, interval] = (\n",
    "                quicksum(\n",
    "                    self.model.assignment[act, machine, interval]\n",
    "                    for machine in act.MACHINES\n",
    "                )\n",
    "                <= 1)\n",
    "        \n",
    "        constraints_from_dict(cons_one_machine_for_act_t, self.model, 'cons_one_machine_for_act_t')\n",
    "        \n",
    "        # В каждый момент времени машина назначается только на одну активность\n",
    "        cons_one_act_for_machine_t = {}\n",
    "        for machine in self.input.MACHINES:\n",
    "#             for interval in sorted(list(machine.INTERVALS), key=lambda interval: interval.start): \n",
    "            for interval in machine.INTERVALS:\n",
    "                cons_one_act_for_machine_t[machine, interval] = (\n",
    "                quicksum(\n",
    "                    self.model.assignment[act, machine, interval]\n",
    "                    for act in machine.ACTIVITIES)\n",
    "                <= 1)\n",
    "                \n",
    "        constraints_from_dict(cons_one_act_for_machine_t, self.model, 'cons_one_act_for_machine_t')\n",
    "        \n",
    "        # Отклонение машины на другую активность\n",
    "        cons_abs_deviation_machine = {}\n",
    "        for machine in self.input.MACHINES:\n",
    "            if len(machine.ACTIVITIES) >= 2:\n",
    "                prev_interval = Interval(-1, -1, -1, -1)\n",
    "                for interval in sorted(list(machine.INTERVALS), key=lambda interval: interval.start):\n",
    "                    if prev_interval != Interval(-1, -1, -1, -1):\n",
    "                        for act in machine.ACTIVITIES:\n",
    "                            cons_abs_deviation_machine[act,machine,interval,1] = (\n",
    "                                self.model.machine_diff[act,machine,interval] >= \n",
    "                                self.model.assignment_bin[act, machine, interval] - \n",
    "                                self.model.assignment_bin[act, machine, prev_interval]\n",
    "                            )\n",
    "                            \n",
    "                            cons_abs_deviation_machine[act,machine,interval,2] = (\n",
    "                                self.model.machine_diff[act,machine,interval] >= \n",
    "                                self.model.assignment_bin[act, machine, prev_interval] - \n",
    "                                self.model.assignment_bin[act, machine, interval]\n",
    "                            )\n",
    "                    prev_interval = interval\n",
    "                    \n",
    "        constraints_from_dict(cons_abs_deviation_machine, self.model, 'cons_abs_deviation_machine')\n",
    "                    \n",
    "#         cons_abs_deviation_machine = {}\n",
    "#         for machine in self.input.MACHINES:\n",
    "#             if len(machine.ACTIVITIES) >= 2:\n",
    "#                 for interval in sorted(list(machine.INTERVALS), key=lambda interval: interval.start):\n",
    "#                     for act in machine.ACTIVITIES:\n",
    "#                         cons_abs_deviation_machine[act,machine,interval,1] = (\n",
    "#                             self.model.machine_diff[act,machine,interval] >= \n",
    "#                             self.model.assignment[act, machine, interval] - \n",
    "#                             0.5\n",
    "#                         )\n",
    "\n",
    "#                         cons_abs_deviation_machine[act,machine,interval,2] = (\n",
    "#                             self.model.machine_diff[act,machine,interval] >= \n",
    "#                             0.5 - \n",
    "#                             self.model.assignment[act, machine, interval]\n",
    "#                         )\n",
    "#                 prev_interval = interval\n",
    "                \n",
    "#         constraints_from_dict(cons_abs_deviation_machine, self.model, 'cons_abs_deviation_machine')\n",
    "\n",
    "\n",
    "        # Связь бинарных и вещественных переменных\n",
    "        cons_assign_reals_bin_conn = {}\n",
    "        for act,machine,interval in self.input.ASSIGNMENTS:\n",
    "            if len(act.MACHINES) >= 2:\n",
    "                cons_assign_reals_bin_conn[act,machine,interval,1] = (\n",
    "                    self.model.assignment[act,machine,interval] \n",
    "                        <= \n",
    "                    self.model.assignment_bin[act, machine, interval])\n",
    "\n",
    "                cons_assign_reals_bin_conn[act,machine,interval,2] = (\n",
    "                    self.model.assignment[act,machine,interval] \n",
    "                        >= \n",
    "                    self.model.assignment_bin[act, machine, interval] * 5e-5)\n",
    "                \n",
    "        constraints_from_dict(cons_assign_reals_bin_conn, self.model, 'cons_assign_reals_bin_conn')\n",
    "            \n",
    "        \n",
    "\n",
    "\n",
    "        ### Целевая функция \n",
    "        # Выполнение работ как можно раньше\n",
    "        expr1 = quicksum(self.model.running_undone_volume[act, interval]\n",
    "                        for act,interval in self.model.running_undone_volume.keys())\n",
    "        \n",
    "        # Минимизация переездов машин между активностями\n",
    "        expr2 = quicksum(self.model.machine_diff[act,machine,interval]\n",
    "                        for act,machine,interval in machine_diff_index)\n",
    "\n",
    "        # Минимизация бинарных переменных\n",
    "        expr3 = quicksum(self.model.assignment_bin[act,machine,interval]\n",
    "                        for act,machine,interval in self.input.ASSIGNMENTS)\n",
    "\n",
    "        # Минимизация времени выполнения работ\n",
    "        self.model.obj = Objective(\n",
    "            expr=(\n",
    "                expr1 + expr2\n",
    "                \n",
    "#              expr=(quicksum(\n",
    "#                     self.model.assignment[act, machine, interval] * interval.number\n",
    "#                         for act in self.input.ACTIVITIES \n",
    "#                         for machine in act.MACHINES\n",
    "#                         for interval in act.INTERVALS\n",
    "#                 )\n",
    "                \n",
    "            )\n",
    "            , sense=minimize\n",
    "        )\n",
    "\n",
    "        return\n",
    "\n",
    "    def solve_model(self):\n",
    "        print('Запуск оптимизации')\n",
    "\n",
    "        # Solver = SolverFactory('cbc')\n",
    "\n",
    "        # Solver.options['Threads' ] = 10\n",
    "        # Solver.options['second' ] = 1800\n",
    "        # Solver.options['allowableGap' ] = 0.02\n",
    "\n",
    "        #solver = SolverFactory('appsi_highs')\n",
    "        #solver.options['time_limit'] = 900\n",
    "        #solver.options['mip_rel_gap'] = 0.02\n",
    "\n",
    "        solver_name = 'appsi_highs'\n",
    "        solver = SolverFactory(solver_name)\n",
    "        # self.model.write('1.lp', io_options={'symbolic_solver_labels': True})\n",
    "        if solver_name == 'appsi_highs':\n",
    "            solver.options['time_limit'] = 3600\n",
    "            solver.options['mip_rel_gap'] = 1e-5\n",
    "            SolverResults = solver.solve(self.model, tee=True)\n",
    "        else:\n",
    "            solver.options['TimeLimit'] = 3600\n",
    "            solver.options['Method'] = 3\n",
    "            SolverResults = solver.solve(self.model, tee=True, warmstart=True)\n",
    "            \n",
    "            \n",
    "        # Обработка статусов    \n",
    "        if (SolverResults.solver.termination_condition == TerminationCondition.infeasible \n",
    "            or SolverResults.solver.termination_condition == TerminationCondition.infeasibleOrUnbounded \n",
    "            # or SolverResults.solver.termination_condition == TerminationCondition.aborted\n",
    "            ):\n",
    "            ResultStatus = 'Infeasible'\n",
    "\n",
    "            # sys.exit(\"\\n\\n #opti-model-status NOT_FOUND \\n\\n\")\n",
    "        else:\n",
    "            ResultStatus = 'OK'\n",
    "\n",
    "        return       \n",
    "\n",
    "   "
   ]
  },
  {
   "cell_type": "code",
   "execution_count": 135,
   "id": "7c80d32e",
   "metadata": {},
   "outputs": [],
   "source": [
    "class ModelOutput:\n",
    "    def __init__(self, model: ConcreteModel, input: ModelInput):\n",
    "        self.model = model\n",
    "        self.input = input\n",
    "\n",
    "        self.result_assignments_df = pd.DataFrame(\n",
    "            columns=[\n",
    "                'act',\n",
    "                'machine',\n",
    "                'Start',\n",
    "                'Finish'\n",
    "            ]\n",
    "        )\n",
    "        \n",
    "        \n",
    "        \n",
    "        \n",
    "\n",
    "    def transform_results(self):\n",
    "        \n",
    "        self.ROUNDING_CONST = 1e-4\n",
    "        assignment_result = defaultdict(int, {(act,machine,interval): round(value(self.model.assignment[act,machine,interval]), 3)\n",
    "                            for act,machine,interval in self.input.ASSIGNMENTS})\n",
    "        \n",
    "        # Соединение в крупные интервалы\n",
    "        self.RESULT_GANTT = list()\n",
    "        for act in self.input.ACTIVITIES:\n",
    "            for machine in act.MACHINES:\n",
    "                prev_interval = Interval(1,1,0,1)\n",
    "                full_interval_flg = defaultdict(int)\n",
    "                INTERVALS = list()\n",
    "                for interval in act.INTERVALS:\n",
    "                    if assignment_result[act,machine,interval] > 1 - self.ROUNDING_CONST:\n",
    "                        full_interval_flg[act,machine,interval] = 1\n",
    "\n",
    "                    if assignment_result[act,machine,interval] > self.ROUNDING_CONST:\n",
    "                        if full_interval_flg[act,machine,prev_interval] == 1:\n",
    "                            start = interval.start\n",
    "                            end = interval.start + interval.duration*assignment_result[act,machine,interval]\n",
    "                        else:\n",
    "                            start = interval.end - interval.duration*assignment_result[act,machine,interval]\n",
    "                            end = interval.end\n",
    "                        INTERVALS.append(SympyInterval(start,end))\n",
    "                    prev_interval = interval\n",
    "                        \n",
    "                        \n",
    "#                 intervals = [SympyInterval(interval.start, interval.start+interval.duration*assignment_result[act,machine,interval]) \n",
    "#                              for interval in act.INTERVALS\n",
    "#                              if assignment_result[act,machine,interval] > ROUNDING_CONST]\n",
    "                INTERVALS.append(SympyInterval(0,0))\n",
    "                u = Union(*INTERVALS)\n",
    "                for subset in u.args:\n",
    "                    if subset.measure > 0:\n",
    "                        self.RESULT_GANTT.append((act,machine,Interval(float(subset.start), float(subset.end))))\n",
    "#         self.RESULT_GANTT = list()\n",
    "#         for act in self.input.ACTIVITIES:\n",
    "#             for machine in act.MACHINES:\n",
    "#                 intervals = [SympyInterval(interval.start, interval.end) for interval in act.INTERVALS\n",
    "#                         if assignment_result[act,machine,interval] > 1e-4]\n",
    "#                 u = Union(*intervals)\n",
    "#                 if act.label == 'Бурение_1' and machine.label == 'Машина_1':\n",
    "#                     print(u)\n",
    "#                     sys.exit()\n",
    "#                 start_interval, prev_interval = Interval(1,1,0,1), Interval(1,1,0,1)\n",
    "#                 for interval in act.INTERVALS:\n",
    "#                     if assignment_result[act,machine,interval] > 1e-4:\n",
    "#                         if interval.number - prev_interval.number > 1:\n",
    "#                             end = prev_interval.start + prev_interval.duration * assignment_result[act,machine,prev_interval]\n",
    "#                             self.RESULT_GANTT.append((act,machine,Interval(start_interval.start, end)))\n",
    "#                             start_interval = interval\n",
    "#                         prev_interval = interval\n",
    "                            \n",
    "                \n",
    "#                 end = prev_interval.start + prev_interval.duration * assignment_result[act,machine,prev_interval]\n",
    "#                 self.RESULT_GANTT.append((act,machine,Interval(start_interval.start, end)))\n",
    "            \n",
    "                \n",
    "        \n",
    "        # Детальный аутпут\n",
    "        assignment_result = [[act.label, machine.label, interval.start, interval.end, value(self.model.assignment[act,machine,interval])]\n",
    "                                      for act in self.input.ACTIVITIES\n",
    "                                      for machine in act.MACHINES\n",
    "                                      for interval in act.INTERVALS\n",
    "                                  if value(self.model.assignment[act,machine,interval]) > self.ROUNDING_CONST]\n",
    "        self.result_detailed_df = pd.DataFrame(\n",
    "            columns=[\n",
    "                'act',\n",
    "                'machine',\n",
    "                'Start',\n",
    "                'End',\n",
    "                'Frac'\n",
    "            ])\n",
    "            \n",
    "        self.result_detailed_df = pd.DataFrame(assignment_result, columns=self.result_detailed_df.columns)\n",
    "        \n",
    "                                            \n",
    "                            \n",
    "        \n",
    "\n",
    "    def create_output(self):\n",
    "        print('Подготовка выходных данных')\n",
    "        \n",
    "                            \n",
    "\n",
    "        result_assignments = [\n",
    "            [\n",
    "                act.label,\n",
    "                machine.label,\n",
    "                interval.start,\n",
    "                interval.end\n",
    "\n",
    "            ]\n",
    "            for act,machine,interval in self.RESULT_GANTT\n",
    "        ]\n",
    "        self.result_assignments_df = pd.DataFrame(result_assignments, columns=self.result_assignments_df.columns)\n",
    "        \n",
    "#         self.result_jobs_df = self.result_assignments_df.groupby(['act', 'machine']).agg(\n",
    "#             Start=pd.NamedAgg(column=\"interval\", aggfunc=\"min\"),\n",
    "#             Finish=pd.NamedAgg(column=\"interval\", aggfunc=\"max\")\n",
    "#             ).reset_index()\n",
    "#         self.result_jobs_df = self.result_assignments_df.copy()\n",
    "        \n",
    "    def plot_gantt(self):\n",
    "        df = self.result_assignments_df.copy()\n",
    "        df['Task'] = df['act'] + ' ' + df['machine'].astype(str)\n",
    "        df['Complete'] = 100\n",
    "\n",
    "        colors = dict()\n",
    "        random.seed(42)\n",
    "        for i, act in enumerate(self.input.ACTIVITIES):\n",
    "            colors[act.label] = f\"rgb({random.randint(0, 255)}, {random.randint(0, 255)}, {random.randint(0, 255)})\"\n",
    "            \n",
    "        fig = ff.create_gantt(df, colors=colors, index_col='act', show_colorbar=True)\n",
    "        fig.update_layout(xaxis_type='linear')\n",
    "        fig.show()\n",
    "        \n",
    "    \n",
    "    def print_input(self):\n",
    "        print('Активности:')\n",
    "        for act in self.input.ACTIVITIES:\n",
    "            print(f\"{act.label}: {act.volume}\")\n",
    "            print(f\"{[f'{machine.label}: {machine.power}'for machine in act.MACHINES]}\\n\")\n",
    "            \n",
    "#         print('\\nМашины:')\n",
    "#         for machine in self.input.MACHINES:\n",
    "#             print(f\"{machine.label}: {machine.power}\")\n",
    "\n",
    "\n",
    "        "
   ]
  },
  {
   "cell_type": "code",
   "execution_count": 139,
   "id": "b8641b10",
   "metadata": {},
   "outputs": [
    {
     "name": "stdout",
     "output_type": "stream",
     "text": [
      "Подготовка входных данных модели\n",
      "Подготовка модели\n",
      "Запуск оптимизации\n",
      "Подготовка выходных данных\n"
     ]
    },
    {
     "data": {
      "application/vnd.plotly.v1+json": {
       "config": {
        "plotlyServerURL": "https://plot.ly"
       },
       "data": [
        {
         "fill": "toself",
         "fillcolor": "rgb(101, 214, 112)",
         "hoverinfo": "name",
         "legendgroup": "rgb(101, 214, 112)",
         "mode": "none",
         "name": "Бурение_5",
         "type": "scatter",
         "x": [
          1,
          3.857,
          3.857,
          1
         ],
         "y": [
          5.8,
          5.8,
          6.2,
          6.2
         ]
        },
        {
         "fill": "toself",
         "fillcolor": "rgb(111, 119, 13)",
         "hoverinfo": "name",
         "legendgroup": "rgb(111, 119, 13)",
         "mode": "none",
         "name": "Бурение_4",
         "type": "scatter",
         "x": [
          3.857,
          6.714,
          6.714,
          3.857
         ],
         "y": [
          4.8,
          4.8,
          5.2,
          5.2
         ]
        },
        {
         "fill": "toself",
         "fillcolor": "rgb(125, 114, 71)",
         "hoverinfo": "name",
         "legendgroup": "rgb(125, 114, 71)",
         "mode": "none",
         "name": "Бурение_1",
         "type": "scatter",
         "x": [
          1,
          7.667,
          7.667,
          1
         ],
         "y": [
          0.8,
          0.8,
          1.2,
          1.2
         ]
        },
        {
         "fill": "toself",
         "fillcolor": "rgb(142, 79, 110)",
         "hoverinfo": "name",
         "legendgroup": "rgb(142, 79, 110)",
         "mode": "none",
         "name": "Бурение_8",
         "type": "scatter",
         "x": [
          1,
          3,
          3,
          1
         ],
         "y": [
          8.8,
          8.8,
          9.2,
          9.2
         ]
        },
        {
         "fill": "toself",
         "fillcolor": "rgb(16, 15, 47)",
         "hoverinfo": "name",
         "legendgroup": "rgb(16, 15, 47)",
         "mode": "none",
         "name": "Бурение_3",
         "type": "scatter",
         "x": [
          1,
          3,
          3,
          1,
          1,
          3.002,
          4,
          4,
          3.002
         ],
         "y": [
          2.8,
          2.8,
          3.2,
          3.2,
          null,
          3.8,
          3.8,
          4.2,
          4.2
         ]
        },
        {
         "fill": "toself",
         "fillcolor": "rgb(172, 52, 47)",
         "hoverinfo": "name",
         "legendgroup": "rgb(172, 52, 47)",
         "mode": "none",
         "name": "Бурение_9",
         "type": "scatter",
         "x": [
          1,
          2.818,
          2.818,
          1
         ],
         "y": [
          9.8,
          9.8,
          10.2,
          10.2
         ]
        },
        {
         "fill": "toself",
         "fillcolor": "rgb(229, 142, 3)",
         "hoverinfo": "name",
         "legendgroup": "rgb(229, 142, 3)",
         "mode": "none",
         "name": "Бурение_6",
         "type": "scatter",
         "x": [
          1,
          3.5,
          3.5,
          1
         ],
         "y": [
          6.8,
          6.8,
          7.2,
          7.2
         ]
        },
        {
         "fill": "toself",
         "fillcolor": "rgb(52, 44, 216)",
         "hoverinfo": "name",
         "legendgroup": "rgb(52, 44, 216)",
         "mode": "none",
         "name": "Бурение_2",
         "type": "scatter",
         "x": [
          1,
          6,
          6,
          1
         ],
         "y": [
          1.8,
          1.8,
          2.2,
          2.2
         ]
        },
        {
         "fill": "toself",
         "fillcolor": "rgb(57, 12, 140)",
         "hoverinfo": "name",
         "legendgroup": "rgb(57, 12, 140)",
         "mode": "none",
         "name": "Бурение_0",
         "type": "scatter",
         "x": [
          1,
          11,
          11,
          1
         ],
         "y": [
          -0.2,
          -0.2,
          0.2,
          0.2
         ]
        },
        {
         "fill": "toself",
         "fillcolor": "rgb(81, 216, 174)",
         "hoverinfo": "name",
         "legendgroup": "rgb(81, 216, 174)",
         "mode": "none",
         "name": "Бурение_7",
         "type": "scatter",
         "x": [
          1,
          3.222,
          3.222,
          1
         ],
         "y": [
          7.8,
          7.8,
          8.2,
          8.2
         ]
        },
        {
         "legendgroup": "rgb(101, 214, 112)",
         "marker": {
          "color": "rgb(101, 214, 112)",
          "opacity": 0,
          "size": 1
         },
         "mode": "markers",
         "name": "",
         "showlegend": false,
         "text": [
          null,
          null
         ],
         "type": "scatter",
         "x": [
          1,
          3.857
         ],
         "y": [
          6,
          6
         ]
        },
        {
         "legendgroup": "rgb(111, 119, 13)",
         "marker": {
          "color": "rgb(111, 119, 13)",
          "opacity": 0,
          "size": 1
         },
         "mode": "markers",
         "name": "",
         "showlegend": false,
         "text": [
          null,
          null
         ],
         "type": "scatter",
         "x": [
          3.857,
          6.714
         ],
         "y": [
          5,
          5
         ]
        },
        {
         "legendgroup": "rgb(125, 114, 71)",
         "marker": {
          "color": "rgb(125, 114, 71)",
          "opacity": 0,
          "size": 1
         },
         "mode": "markers",
         "name": "",
         "showlegend": false,
         "text": [
          null,
          null
         ],
         "type": "scatter",
         "x": [
          1,
          7.667
         ],
         "y": [
          1,
          1
         ]
        },
        {
         "legendgroup": "rgb(142, 79, 110)",
         "marker": {
          "color": "rgb(142, 79, 110)",
          "opacity": 0,
          "size": 1
         },
         "mode": "markers",
         "name": "",
         "showlegend": false,
         "text": [
          null,
          null
         ],
         "type": "scatter",
         "x": [
          1,
          3
         ],
         "y": [
          9,
          9
         ]
        },
        {
         "legendgroup": "rgb(16, 15, 47)",
         "marker": {
          "color": "rgb(16, 15, 47)",
          "opacity": 0,
          "size": 1
         },
         "mode": "markers",
         "name": "",
         "showlegend": false,
         "text": [
          null,
          null,
          null,
          null
         ],
         "type": "scatter",
         "x": [
          1,
          3,
          3.002,
          4
         ],
         "y": [
          3,
          3,
          4,
          4
         ]
        },
        {
         "legendgroup": "rgb(172, 52, 47)",
         "marker": {
          "color": "rgb(172, 52, 47)",
          "opacity": 0,
          "size": 1
         },
         "mode": "markers",
         "name": "",
         "showlegend": false,
         "text": [
          null,
          null
         ],
         "type": "scatter",
         "x": [
          1,
          2.818
         ],
         "y": [
          10,
          10
         ]
        },
        {
         "legendgroup": "rgb(229, 142, 3)",
         "marker": {
          "color": "rgb(229, 142, 3)",
          "opacity": 0,
          "size": 1
         },
         "mode": "markers",
         "name": "",
         "showlegend": false,
         "text": [
          null,
          null
         ],
         "type": "scatter",
         "x": [
          1,
          3.5
         ],
         "y": [
          7,
          7
         ]
        },
        {
         "legendgroup": "rgb(52, 44, 216)",
         "marker": {
          "color": "rgb(52, 44, 216)",
          "opacity": 0,
          "size": 1
         },
         "mode": "markers",
         "name": "",
         "showlegend": false,
         "text": [
          null,
          null
         ],
         "type": "scatter",
         "x": [
          1,
          6
         ],
         "y": [
          2,
          2
         ]
        },
        {
         "legendgroup": "rgb(57, 12, 140)",
         "marker": {
          "color": "rgb(57, 12, 140)",
          "opacity": 0,
          "size": 1
         },
         "mode": "markers",
         "name": "",
         "showlegend": false,
         "text": [
          null,
          null
         ],
         "type": "scatter",
         "x": [
          1,
          11
         ],
         "y": [
          0,
          0
         ]
        },
        {
         "legendgroup": "rgb(81, 216, 174)",
         "marker": {
          "color": "rgb(81, 216, 174)",
          "opacity": 0,
          "size": 1
         },
         "mode": "markers",
         "name": "",
         "showlegend": false,
         "text": [
          null,
          null
         ],
         "type": "scatter",
         "x": [
          1,
          3.222
         ],
         "y": [
          8,
          8
         ]
        }
       ],
       "layout": {
        "height": 600,
        "hovermode": "closest",
        "showlegend": true,
        "template": {
         "data": {
          "bar": [
           {
            "error_x": {
             "color": "#2a3f5f"
            },
            "error_y": {
             "color": "#2a3f5f"
            },
            "marker": {
             "line": {
              "color": "#E5ECF6",
              "width": 0.5
             },
             "pattern": {
              "fillmode": "overlay",
              "size": 10,
              "solidity": 0.2
             }
            },
            "type": "bar"
           }
          ],
          "barpolar": [
           {
            "marker": {
             "line": {
              "color": "#E5ECF6",
              "width": 0.5
             },
             "pattern": {
              "fillmode": "overlay",
              "size": 10,
              "solidity": 0.2
             }
            },
            "type": "barpolar"
           }
          ],
          "carpet": [
           {
            "aaxis": {
             "endlinecolor": "#2a3f5f",
             "gridcolor": "white",
             "linecolor": "white",
             "minorgridcolor": "white",
             "startlinecolor": "#2a3f5f"
            },
            "baxis": {
             "endlinecolor": "#2a3f5f",
             "gridcolor": "white",
             "linecolor": "white",
             "minorgridcolor": "white",
             "startlinecolor": "#2a3f5f"
            },
            "type": "carpet"
           }
          ],
          "choropleth": [
           {
            "colorbar": {
             "outlinewidth": 0,
             "ticks": ""
            },
            "type": "choropleth"
           }
          ],
          "contour": [
           {
            "colorbar": {
             "outlinewidth": 0,
             "ticks": ""
            },
            "colorscale": [
             [
              0,
              "#0d0887"
             ],
             [
              0.1111111111111111,
              "#46039f"
             ],
             [
              0.2222222222222222,
              "#7201a8"
             ],
             [
              0.3333333333333333,
              "#9c179e"
             ],
             [
              0.4444444444444444,
              "#bd3786"
             ],
             [
              0.5555555555555556,
              "#d8576b"
             ],
             [
              0.6666666666666666,
              "#ed7953"
             ],
             [
              0.7777777777777778,
              "#fb9f3a"
             ],
             [
              0.8888888888888888,
              "#fdca26"
             ],
             [
              1,
              "#f0f921"
             ]
            ],
            "type": "contour"
           }
          ],
          "contourcarpet": [
           {
            "colorbar": {
             "outlinewidth": 0,
             "ticks": ""
            },
            "type": "contourcarpet"
           }
          ],
          "heatmap": [
           {
            "colorbar": {
             "outlinewidth": 0,
             "ticks": ""
            },
            "colorscale": [
             [
              0,
              "#0d0887"
             ],
             [
              0.1111111111111111,
              "#46039f"
             ],
             [
              0.2222222222222222,
              "#7201a8"
             ],
             [
              0.3333333333333333,
              "#9c179e"
             ],
             [
              0.4444444444444444,
              "#bd3786"
             ],
             [
              0.5555555555555556,
              "#d8576b"
             ],
             [
              0.6666666666666666,
              "#ed7953"
             ],
             [
              0.7777777777777778,
              "#fb9f3a"
             ],
             [
              0.8888888888888888,
              "#fdca26"
             ],
             [
              1,
              "#f0f921"
             ]
            ],
            "type": "heatmap"
           }
          ],
          "heatmapgl": [
           {
            "colorbar": {
             "outlinewidth": 0,
             "ticks": ""
            },
            "colorscale": [
             [
              0,
              "#0d0887"
             ],
             [
              0.1111111111111111,
              "#46039f"
             ],
             [
              0.2222222222222222,
              "#7201a8"
             ],
             [
              0.3333333333333333,
              "#9c179e"
             ],
             [
              0.4444444444444444,
              "#bd3786"
             ],
             [
              0.5555555555555556,
              "#d8576b"
             ],
             [
              0.6666666666666666,
              "#ed7953"
             ],
             [
              0.7777777777777778,
              "#fb9f3a"
             ],
             [
              0.8888888888888888,
              "#fdca26"
             ],
             [
              1,
              "#f0f921"
             ]
            ],
            "type": "heatmapgl"
           }
          ],
          "histogram": [
           {
            "marker": {
             "pattern": {
              "fillmode": "overlay",
              "size": 10,
              "solidity": 0.2
             }
            },
            "type": "histogram"
           }
          ],
          "histogram2d": [
           {
            "colorbar": {
             "outlinewidth": 0,
             "ticks": ""
            },
            "colorscale": [
             [
              0,
              "#0d0887"
             ],
             [
              0.1111111111111111,
              "#46039f"
             ],
             [
              0.2222222222222222,
              "#7201a8"
             ],
             [
              0.3333333333333333,
              "#9c179e"
             ],
             [
              0.4444444444444444,
              "#bd3786"
             ],
             [
              0.5555555555555556,
              "#d8576b"
             ],
             [
              0.6666666666666666,
              "#ed7953"
             ],
             [
              0.7777777777777778,
              "#fb9f3a"
             ],
             [
              0.8888888888888888,
              "#fdca26"
             ],
             [
              1,
              "#f0f921"
             ]
            ],
            "type": "histogram2d"
           }
          ],
          "histogram2dcontour": [
           {
            "colorbar": {
             "outlinewidth": 0,
             "ticks": ""
            },
            "colorscale": [
             [
              0,
              "#0d0887"
             ],
             [
              0.1111111111111111,
              "#46039f"
             ],
             [
              0.2222222222222222,
              "#7201a8"
             ],
             [
              0.3333333333333333,
              "#9c179e"
             ],
             [
              0.4444444444444444,
              "#bd3786"
             ],
             [
              0.5555555555555556,
              "#d8576b"
             ],
             [
              0.6666666666666666,
              "#ed7953"
             ],
             [
              0.7777777777777778,
              "#fb9f3a"
             ],
             [
              0.8888888888888888,
              "#fdca26"
             ],
             [
              1,
              "#f0f921"
             ]
            ],
            "type": "histogram2dcontour"
           }
          ],
          "mesh3d": [
           {
            "colorbar": {
             "outlinewidth": 0,
             "ticks": ""
            },
            "type": "mesh3d"
           }
          ],
          "parcoords": [
           {
            "line": {
             "colorbar": {
              "outlinewidth": 0,
              "ticks": ""
             }
            },
            "type": "parcoords"
           }
          ],
          "pie": [
           {
            "automargin": true,
            "type": "pie"
           }
          ],
          "scatter": [
           {
            "fillpattern": {
             "fillmode": "overlay",
             "size": 10,
             "solidity": 0.2
            },
            "type": "scatter"
           }
          ],
          "scatter3d": [
           {
            "line": {
             "colorbar": {
              "outlinewidth": 0,
              "ticks": ""
             }
            },
            "marker": {
             "colorbar": {
              "outlinewidth": 0,
              "ticks": ""
             }
            },
            "type": "scatter3d"
           }
          ],
          "scattercarpet": [
           {
            "marker": {
             "colorbar": {
              "outlinewidth": 0,
              "ticks": ""
             }
            },
            "type": "scattercarpet"
           }
          ],
          "scattergeo": [
           {
            "marker": {
             "colorbar": {
              "outlinewidth": 0,
              "ticks": ""
             }
            },
            "type": "scattergeo"
           }
          ],
          "scattergl": [
           {
            "marker": {
             "colorbar": {
              "outlinewidth": 0,
              "ticks": ""
             }
            },
            "type": "scattergl"
           }
          ],
          "scattermapbox": [
           {
            "marker": {
             "colorbar": {
              "outlinewidth": 0,
              "ticks": ""
             }
            },
            "type": "scattermapbox"
           }
          ],
          "scatterpolar": [
           {
            "marker": {
             "colorbar": {
              "outlinewidth": 0,
              "ticks": ""
             }
            },
            "type": "scatterpolar"
           }
          ],
          "scatterpolargl": [
           {
            "marker": {
             "colorbar": {
              "outlinewidth": 0,
              "ticks": ""
             }
            },
            "type": "scatterpolargl"
           }
          ],
          "scatterternary": [
           {
            "marker": {
             "colorbar": {
              "outlinewidth": 0,
              "ticks": ""
             }
            },
            "type": "scatterternary"
           }
          ],
          "surface": [
           {
            "colorbar": {
             "outlinewidth": 0,
             "ticks": ""
            },
            "colorscale": [
             [
              0,
              "#0d0887"
             ],
             [
              0.1111111111111111,
              "#46039f"
             ],
             [
              0.2222222222222222,
              "#7201a8"
             ],
             [
              0.3333333333333333,
              "#9c179e"
             ],
             [
              0.4444444444444444,
              "#bd3786"
             ],
             [
              0.5555555555555556,
              "#d8576b"
             ],
             [
              0.6666666666666666,
              "#ed7953"
             ],
             [
              0.7777777777777778,
              "#fb9f3a"
             ],
             [
              0.8888888888888888,
              "#fdca26"
             ],
             [
              1,
              "#f0f921"
             ]
            ],
            "type": "surface"
           }
          ],
          "table": [
           {
            "cells": {
             "fill": {
              "color": "#EBF0F8"
             },
             "line": {
              "color": "white"
             }
            },
            "header": {
             "fill": {
              "color": "#C8D4E3"
             },
             "line": {
              "color": "white"
             }
            },
            "type": "table"
           }
          ]
         },
         "layout": {
          "annotationdefaults": {
           "arrowcolor": "#2a3f5f",
           "arrowhead": 0,
           "arrowwidth": 1
          },
          "autotypenumbers": "strict",
          "coloraxis": {
           "colorbar": {
            "outlinewidth": 0,
            "ticks": ""
           }
          },
          "colorscale": {
           "diverging": [
            [
             0,
             "#8e0152"
            ],
            [
             0.1,
             "#c51b7d"
            ],
            [
             0.2,
             "#de77ae"
            ],
            [
             0.3,
             "#f1b6da"
            ],
            [
             0.4,
             "#fde0ef"
            ],
            [
             0.5,
             "#f7f7f7"
            ],
            [
             0.6,
             "#e6f5d0"
            ],
            [
             0.7,
             "#b8e186"
            ],
            [
             0.8,
             "#7fbc41"
            ],
            [
             0.9,
             "#4d9221"
            ],
            [
             1,
             "#276419"
            ]
           ],
           "sequential": [
            [
             0,
             "#0d0887"
            ],
            [
             0.1111111111111111,
             "#46039f"
            ],
            [
             0.2222222222222222,
             "#7201a8"
            ],
            [
             0.3333333333333333,
             "#9c179e"
            ],
            [
             0.4444444444444444,
             "#bd3786"
            ],
            [
             0.5555555555555556,
             "#d8576b"
            ],
            [
             0.6666666666666666,
             "#ed7953"
            ],
            [
             0.7777777777777778,
             "#fb9f3a"
            ],
            [
             0.8888888888888888,
             "#fdca26"
            ],
            [
             1,
             "#f0f921"
            ]
           ],
           "sequentialminus": [
            [
             0,
             "#0d0887"
            ],
            [
             0.1111111111111111,
             "#46039f"
            ],
            [
             0.2222222222222222,
             "#7201a8"
            ],
            [
             0.3333333333333333,
             "#9c179e"
            ],
            [
             0.4444444444444444,
             "#bd3786"
            ],
            [
             0.5555555555555556,
             "#d8576b"
            ],
            [
             0.6666666666666666,
             "#ed7953"
            ],
            [
             0.7777777777777778,
             "#fb9f3a"
            ],
            [
             0.8888888888888888,
             "#fdca26"
            ],
            [
             1,
             "#f0f921"
            ]
           ]
          },
          "colorway": [
           "#636efa",
           "#EF553B",
           "#00cc96",
           "#ab63fa",
           "#FFA15A",
           "#19d3f3",
           "#FF6692",
           "#B6E880",
           "#FF97FF",
           "#FECB52"
          ],
          "font": {
           "color": "#2a3f5f"
          },
          "geo": {
           "bgcolor": "white",
           "lakecolor": "white",
           "landcolor": "#E5ECF6",
           "showlakes": true,
           "showland": true,
           "subunitcolor": "white"
          },
          "hoverlabel": {
           "align": "left"
          },
          "hovermode": "closest",
          "mapbox": {
           "style": "light"
          },
          "paper_bgcolor": "white",
          "plot_bgcolor": "#E5ECF6",
          "polar": {
           "angularaxis": {
            "gridcolor": "white",
            "linecolor": "white",
            "ticks": ""
           },
           "bgcolor": "#E5ECF6",
           "radialaxis": {
            "gridcolor": "white",
            "linecolor": "white",
            "ticks": ""
           }
          },
          "scene": {
           "xaxis": {
            "backgroundcolor": "#E5ECF6",
            "gridcolor": "white",
            "gridwidth": 2,
            "linecolor": "white",
            "showbackground": true,
            "ticks": "",
            "zerolinecolor": "white"
           },
           "yaxis": {
            "backgroundcolor": "#E5ECF6",
            "gridcolor": "white",
            "gridwidth": 2,
            "linecolor": "white",
            "showbackground": true,
            "ticks": "",
            "zerolinecolor": "white"
           },
           "zaxis": {
            "backgroundcolor": "#E5ECF6",
            "gridcolor": "white",
            "gridwidth": 2,
            "linecolor": "white",
            "showbackground": true,
            "ticks": "",
            "zerolinecolor": "white"
           }
          },
          "shapedefaults": {
           "line": {
            "color": "#2a3f5f"
           }
          },
          "ternary": {
           "aaxis": {
            "gridcolor": "white",
            "linecolor": "white",
            "ticks": ""
           },
           "baxis": {
            "gridcolor": "white",
            "linecolor": "white",
            "ticks": ""
           },
           "bgcolor": "#E5ECF6",
           "caxis": {
            "gridcolor": "white",
            "linecolor": "white",
            "ticks": ""
           }
          },
          "title": {
           "x": 0.05
          },
          "xaxis": {
           "automargin": true,
           "gridcolor": "white",
           "linecolor": "white",
           "ticks": "",
           "title": {
            "standoff": 15
           },
           "zerolinecolor": "white",
           "zerolinewidth": 2
          },
          "yaxis": {
           "automargin": true,
           "gridcolor": "white",
           "linecolor": "white",
           "ticks": "",
           "title": {
            "standoff": 15
           },
           "zerolinecolor": "white",
           "zerolinewidth": 2
          }
         }
        },
        "title": {
         "text": "Gantt Chart"
        },
        "xaxis": {
         "rangeselector": {
          "buttons": [
           {
            "count": 7,
            "label": "1w",
            "step": "day",
            "stepmode": "backward"
           },
           {
            "count": 1,
            "label": "1m",
            "step": "month",
            "stepmode": "backward"
           },
           {
            "count": 6,
            "label": "6m",
            "step": "month",
            "stepmode": "backward"
           },
           {
            "count": 1,
            "label": "YTD",
            "step": "year",
            "stepmode": "todate"
           },
           {
            "count": 1,
            "label": "1y",
            "step": "year",
            "stepmode": "backward"
           },
           {
            "step": "all"
           }
          ]
         },
         "showgrid": false,
         "type": "linear",
         "zeroline": false
        },
        "yaxis": {
         "autorange": false,
         "range": [
          -1,
          12
         ],
         "showgrid": false,
         "ticktext": [
          "Бурение_0 Машина_0",
          "Бурение_1 Машина_1",
          "Бурение_2 Машина_2",
          "Бурение_3 Машина_3",
          "Бурение_3 Машина_8",
          "Бурение_4 Машина_5",
          "Бурение_5 Машина_5",
          "Бурение_6 Машина_6",
          "Бурение_7 Машина_7",
          "Бурение_8 Машина_8",
          "Бурение_9 Машина_9"
         ],
         "tickvals": [
          0,
          1,
          2,
          3,
          4,
          5,
          6,
          7,
          8,
          9,
          10
         ],
         "zeroline": false
        }
       }
      },
      "text/html": [
       "<div>                            <div id=\"17b36f9e-26e5-4f9f-b947-55f7ac2680bc\" class=\"plotly-graph-div\" style=\"height:600px; width:100%;\"></div>            <script type=\"text/javascript\">                require([\"plotly\"], function(Plotly) {                    window.PLOTLYENV=window.PLOTLYENV || {};                                    if (document.getElementById(\"17b36f9e-26e5-4f9f-b947-55f7ac2680bc\")) {                    Plotly.newPlot(                        \"17b36f9e-26e5-4f9f-b947-55f7ac2680bc\",                        [{\"fill\":\"toself\",\"fillcolor\":\"rgb(101, 214, 112)\",\"hoverinfo\":\"name\",\"legendgroup\":\"rgb(101, 214, 112)\",\"mode\":\"none\",\"name\":\"\\u0411\\u0443\\u0440\\u0435\\u043d\\u0438\\u0435_5\",\"x\":[1.0,3.857,3.857,1.0],\"y\":[5.8,5.8,6.2,6.2],\"type\":\"scatter\"},{\"fill\":\"toself\",\"fillcolor\":\"rgb(111, 119, 13)\",\"hoverinfo\":\"name\",\"legendgroup\":\"rgb(111, 119, 13)\",\"mode\":\"none\",\"name\":\"\\u0411\\u0443\\u0440\\u0435\\u043d\\u0438\\u0435_4\",\"x\":[3.857,6.714,6.714,3.857],\"y\":[4.8,4.8,5.2,5.2],\"type\":\"scatter\"},{\"fill\":\"toself\",\"fillcolor\":\"rgb(125, 114, 71)\",\"hoverinfo\":\"name\",\"legendgroup\":\"rgb(125, 114, 71)\",\"mode\":\"none\",\"name\":\"\\u0411\\u0443\\u0440\\u0435\\u043d\\u0438\\u0435_1\",\"x\":[1.0,7.667,7.667,1.0],\"y\":[0.8,0.8,1.2,1.2],\"type\":\"scatter\"},{\"fill\":\"toself\",\"fillcolor\":\"rgb(142, 79, 110)\",\"hoverinfo\":\"name\",\"legendgroup\":\"rgb(142, 79, 110)\",\"mode\":\"none\",\"name\":\"\\u0411\\u0443\\u0440\\u0435\\u043d\\u0438\\u0435_8\",\"x\":[1.0,3.0,3.0,1.0],\"y\":[8.8,8.8,9.2,9.2],\"type\":\"scatter\"},{\"fill\":\"toself\",\"fillcolor\":\"rgb(16, 15, 47)\",\"hoverinfo\":\"name\",\"legendgroup\":\"rgb(16, 15, 47)\",\"mode\":\"none\",\"name\":\"\\u0411\\u0443\\u0440\\u0435\\u043d\\u0438\\u0435_3\",\"x\":[1.0,3.0,3.0,1.0,1.0,3.002,4.0,4.0,3.002],\"y\":[2.8,2.8,3.2,3.2,null,3.8,3.8,4.2,4.2],\"type\":\"scatter\"},{\"fill\":\"toself\",\"fillcolor\":\"rgb(172, 52, 47)\",\"hoverinfo\":\"name\",\"legendgroup\":\"rgb(172, 52, 47)\",\"mode\":\"none\",\"name\":\"\\u0411\\u0443\\u0440\\u0435\\u043d\\u0438\\u0435_9\",\"x\":[1.0,2.818,2.818,1.0],\"y\":[9.8,9.8,10.2,10.2],\"type\":\"scatter\"},{\"fill\":\"toself\",\"fillcolor\":\"rgb(229, 142, 3)\",\"hoverinfo\":\"name\",\"legendgroup\":\"rgb(229, 142, 3)\",\"mode\":\"none\",\"name\":\"\\u0411\\u0443\\u0440\\u0435\\u043d\\u0438\\u0435_6\",\"x\":[1.0,3.5,3.5,1.0],\"y\":[6.8,6.8,7.2,7.2],\"type\":\"scatter\"},{\"fill\":\"toself\",\"fillcolor\":\"rgb(52, 44, 216)\",\"hoverinfo\":\"name\",\"legendgroup\":\"rgb(52, 44, 216)\",\"mode\":\"none\",\"name\":\"\\u0411\\u0443\\u0440\\u0435\\u043d\\u0438\\u0435_2\",\"x\":[1.0,6.0,6.0,1.0],\"y\":[1.8,1.8,2.2,2.2],\"type\":\"scatter\"},{\"fill\":\"toself\",\"fillcolor\":\"rgb(57, 12, 140)\",\"hoverinfo\":\"name\",\"legendgroup\":\"rgb(57, 12, 140)\",\"mode\":\"none\",\"name\":\"\\u0411\\u0443\\u0440\\u0435\\u043d\\u0438\\u0435_0\",\"x\":[1.0,11.0,11.0,1.0],\"y\":[-0.2,-0.2,0.2,0.2],\"type\":\"scatter\"},{\"fill\":\"toself\",\"fillcolor\":\"rgb(81, 216, 174)\",\"hoverinfo\":\"name\",\"legendgroup\":\"rgb(81, 216, 174)\",\"mode\":\"none\",\"name\":\"\\u0411\\u0443\\u0440\\u0435\\u043d\\u0438\\u0435_7\",\"x\":[1.0,3.222,3.222,1.0],\"y\":[7.8,7.8,8.2,8.2],\"type\":\"scatter\"},{\"legendgroup\":\"rgb(101, 214, 112)\",\"marker\":{\"color\":\"rgb(101, 214, 112)\",\"opacity\":0,\"size\":1},\"mode\":\"markers\",\"name\":\"\",\"showlegend\":false,\"text\":[null,null],\"x\":[1.0,3.857],\"y\":[6,6],\"type\":\"scatter\"},{\"legendgroup\":\"rgb(111, 119, 13)\",\"marker\":{\"color\":\"rgb(111, 119, 13)\",\"opacity\":0,\"size\":1},\"mode\":\"markers\",\"name\":\"\",\"showlegend\":false,\"text\":[null,null],\"x\":[3.857,6.714],\"y\":[5,5],\"type\":\"scatter\"},{\"legendgroup\":\"rgb(125, 114, 71)\",\"marker\":{\"color\":\"rgb(125, 114, 71)\",\"opacity\":0,\"size\":1},\"mode\":\"markers\",\"name\":\"\",\"showlegend\":false,\"text\":[null,null],\"x\":[1.0,7.667],\"y\":[1,1],\"type\":\"scatter\"},{\"legendgroup\":\"rgb(142, 79, 110)\",\"marker\":{\"color\":\"rgb(142, 79, 110)\",\"opacity\":0,\"size\":1},\"mode\":\"markers\",\"name\":\"\",\"showlegend\":false,\"text\":[null,null],\"x\":[1.0,3.0],\"y\":[9,9],\"type\":\"scatter\"},{\"legendgroup\":\"rgb(16, 15, 47)\",\"marker\":{\"color\":\"rgb(16, 15, 47)\",\"opacity\":0,\"size\":1},\"mode\":\"markers\",\"name\":\"\",\"showlegend\":false,\"text\":[null,null,null,null],\"x\":[1.0,3.0,3.002,4.0],\"y\":[3,3,4,4],\"type\":\"scatter\"},{\"legendgroup\":\"rgb(172, 52, 47)\",\"marker\":{\"color\":\"rgb(172, 52, 47)\",\"opacity\":0,\"size\":1},\"mode\":\"markers\",\"name\":\"\",\"showlegend\":false,\"text\":[null,null],\"x\":[1.0,2.818],\"y\":[10,10],\"type\":\"scatter\"},{\"legendgroup\":\"rgb(229, 142, 3)\",\"marker\":{\"color\":\"rgb(229, 142, 3)\",\"opacity\":0,\"size\":1},\"mode\":\"markers\",\"name\":\"\",\"showlegend\":false,\"text\":[null,null],\"x\":[1.0,3.5],\"y\":[7,7],\"type\":\"scatter\"},{\"legendgroup\":\"rgb(52, 44, 216)\",\"marker\":{\"color\":\"rgb(52, 44, 216)\",\"opacity\":0,\"size\":1},\"mode\":\"markers\",\"name\":\"\",\"showlegend\":false,\"text\":[null,null],\"x\":[1.0,6.0],\"y\":[2,2],\"type\":\"scatter\"},{\"legendgroup\":\"rgb(57, 12, 140)\",\"marker\":{\"color\":\"rgb(57, 12, 140)\",\"opacity\":0,\"size\":1},\"mode\":\"markers\",\"name\":\"\",\"showlegend\":false,\"text\":[null,null],\"x\":[1.0,11.0],\"y\":[0,0],\"type\":\"scatter\"},{\"legendgroup\":\"rgb(81, 216, 174)\",\"marker\":{\"color\":\"rgb(81, 216, 174)\",\"opacity\":0,\"size\":1},\"mode\":\"markers\",\"name\":\"\",\"showlegend\":false,\"text\":[null,null],\"x\":[1.0,3.222],\"y\":[8,8],\"type\":\"scatter\"}],                        {\"height\":600,\"hovermode\":\"closest\",\"showlegend\":true,\"title\":{\"text\":\"Gantt Chart\"},\"xaxis\":{\"rangeselector\":{\"buttons\":[{\"count\":7,\"label\":\"1w\",\"step\":\"day\",\"stepmode\":\"backward\"},{\"count\":1,\"label\":\"1m\",\"step\":\"month\",\"stepmode\":\"backward\"},{\"count\":6,\"label\":\"6m\",\"step\":\"month\",\"stepmode\":\"backward\"},{\"count\":1,\"label\":\"YTD\",\"step\":\"year\",\"stepmode\":\"todate\"},{\"count\":1,\"label\":\"1y\",\"step\":\"year\",\"stepmode\":\"backward\"},{\"step\":\"all\"}]},\"showgrid\":false,\"type\":\"linear\",\"zeroline\":false},\"yaxis\":{\"autorange\":false,\"range\":[-1,12],\"showgrid\":false,\"ticktext\":[\"\\u0411\\u0443\\u0440\\u0435\\u043d\\u0438\\u0435_0 \\u041c\\u0430\\u0448\\u0438\\u043d\\u0430_0\",\"\\u0411\\u0443\\u0440\\u0435\\u043d\\u0438\\u0435_1 \\u041c\\u0430\\u0448\\u0438\\u043d\\u0430_1\",\"\\u0411\\u0443\\u0440\\u0435\\u043d\\u0438\\u0435_2 \\u041c\\u0430\\u0448\\u0438\\u043d\\u0430_2\",\"\\u0411\\u0443\\u0440\\u0435\\u043d\\u0438\\u0435_3 \\u041c\\u0430\\u0448\\u0438\\u043d\\u0430_3\",\"\\u0411\\u0443\\u0440\\u0435\\u043d\\u0438\\u0435_3 \\u041c\\u0430\\u0448\\u0438\\u043d\\u0430_8\",\"\\u0411\\u0443\\u0440\\u0435\\u043d\\u0438\\u0435_4 \\u041c\\u0430\\u0448\\u0438\\u043d\\u0430_5\",\"\\u0411\\u0443\\u0440\\u0435\\u043d\\u0438\\u0435_5 \\u041c\\u0430\\u0448\\u0438\\u043d\\u0430_5\",\"\\u0411\\u0443\\u0440\\u0435\\u043d\\u0438\\u0435_6 \\u041c\\u0430\\u0448\\u0438\\u043d\\u0430_6\",\"\\u0411\\u0443\\u0440\\u0435\\u043d\\u0438\\u0435_7 \\u041c\\u0430\\u0448\\u0438\\u043d\\u0430_7\",\"\\u0411\\u0443\\u0440\\u0435\\u043d\\u0438\\u0435_8 \\u041c\\u0430\\u0448\\u0438\\u043d\\u0430_8\",\"\\u0411\\u0443\\u0440\\u0435\\u043d\\u0438\\u0435_9 \\u041c\\u0430\\u0448\\u0438\\u043d\\u0430_9\"],\"tickvals\":[0,1,2,3,4,5,6,7,8,9,10],\"zeroline\":false},\"template\":{\"data\":{\"histogram2dcontour\":[{\"type\":\"histogram2dcontour\",\"colorbar\":{\"outlinewidth\":0,\"ticks\":\"\"},\"colorscale\":[[0.0,\"#0d0887\"],[0.1111111111111111,\"#46039f\"],[0.2222222222222222,\"#7201a8\"],[0.3333333333333333,\"#9c179e\"],[0.4444444444444444,\"#bd3786\"],[0.5555555555555556,\"#d8576b\"],[0.6666666666666666,\"#ed7953\"],[0.7777777777777778,\"#fb9f3a\"],[0.8888888888888888,\"#fdca26\"],[1.0,\"#f0f921\"]]}],\"choropleth\":[{\"type\":\"choropleth\",\"colorbar\":{\"outlinewidth\":0,\"ticks\":\"\"}}],\"histogram2d\":[{\"type\":\"histogram2d\",\"colorbar\":{\"outlinewidth\":0,\"ticks\":\"\"},\"colorscale\":[[0.0,\"#0d0887\"],[0.1111111111111111,\"#46039f\"],[0.2222222222222222,\"#7201a8\"],[0.3333333333333333,\"#9c179e\"],[0.4444444444444444,\"#bd3786\"],[0.5555555555555556,\"#d8576b\"],[0.6666666666666666,\"#ed7953\"],[0.7777777777777778,\"#fb9f3a\"],[0.8888888888888888,\"#fdca26\"],[1.0,\"#f0f921\"]]}],\"heatmap\":[{\"type\":\"heatmap\",\"colorbar\":{\"outlinewidth\":0,\"ticks\":\"\"},\"colorscale\":[[0.0,\"#0d0887\"],[0.1111111111111111,\"#46039f\"],[0.2222222222222222,\"#7201a8\"],[0.3333333333333333,\"#9c179e\"],[0.4444444444444444,\"#bd3786\"],[0.5555555555555556,\"#d8576b\"],[0.6666666666666666,\"#ed7953\"],[0.7777777777777778,\"#fb9f3a\"],[0.8888888888888888,\"#fdca26\"],[1.0,\"#f0f921\"]]}],\"heatmapgl\":[{\"type\":\"heatmapgl\",\"colorbar\":{\"outlinewidth\":0,\"ticks\":\"\"},\"colorscale\":[[0.0,\"#0d0887\"],[0.1111111111111111,\"#46039f\"],[0.2222222222222222,\"#7201a8\"],[0.3333333333333333,\"#9c179e\"],[0.4444444444444444,\"#bd3786\"],[0.5555555555555556,\"#d8576b\"],[0.6666666666666666,\"#ed7953\"],[0.7777777777777778,\"#fb9f3a\"],[0.8888888888888888,\"#fdca26\"],[1.0,\"#f0f921\"]]}],\"contourcarpet\":[{\"type\":\"contourcarpet\",\"colorbar\":{\"outlinewidth\":0,\"ticks\":\"\"}}],\"contour\":[{\"type\":\"contour\",\"colorbar\":{\"outlinewidth\":0,\"ticks\":\"\"},\"colorscale\":[[0.0,\"#0d0887\"],[0.1111111111111111,\"#46039f\"],[0.2222222222222222,\"#7201a8\"],[0.3333333333333333,\"#9c179e\"],[0.4444444444444444,\"#bd3786\"],[0.5555555555555556,\"#d8576b\"],[0.6666666666666666,\"#ed7953\"],[0.7777777777777778,\"#fb9f3a\"],[0.8888888888888888,\"#fdca26\"],[1.0,\"#f0f921\"]]}],\"surface\":[{\"type\":\"surface\",\"colorbar\":{\"outlinewidth\":0,\"ticks\":\"\"},\"colorscale\":[[0.0,\"#0d0887\"],[0.1111111111111111,\"#46039f\"],[0.2222222222222222,\"#7201a8\"],[0.3333333333333333,\"#9c179e\"],[0.4444444444444444,\"#bd3786\"],[0.5555555555555556,\"#d8576b\"],[0.6666666666666666,\"#ed7953\"],[0.7777777777777778,\"#fb9f3a\"],[0.8888888888888888,\"#fdca26\"],[1.0,\"#f0f921\"]]}],\"mesh3d\":[{\"type\":\"mesh3d\",\"colorbar\":{\"outlinewidth\":0,\"ticks\":\"\"}}],\"scatter\":[{\"fillpattern\":{\"fillmode\":\"overlay\",\"size\":10,\"solidity\":0.2},\"type\":\"scatter\"}],\"parcoords\":[{\"type\":\"parcoords\",\"line\":{\"colorbar\":{\"outlinewidth\":0,\"ticks\":\"\"}}}],\"scatterpolargl\":[{\"type\":\"scatterpolargl\",\"marker\":{\"colorbar\":{\"outlinewidth\":0,\"ticks\":\"\"}}}],\"bar\":[{\"error_x\":{\"color\":\"#2a3f5f\"},\"error_y\":{\"color\":\"#2a3f5f\"},\"marker\":{\"line\":{\"color\":\"#E5ECF6\",\"width\":0.5},\"pattern\":{\"fillmode\":\"overlay\",\"size\":10,\"solidity\":0.2}},\"type\":\"bar\"}],\"scattergeo\":[{\"type\":\"scattergeo\",\"marker\":{\"colorbar\":{\"outlinewidth\":0,\"ticks\":\"\"}}}],\"scatterpolar\":[{\"type\":\"scatterpolar\",\"marker\":{\"colorbar\":{\"outlinewidth\":0,\"ticks\":\"\"}}}],\"histogram\":[{\"marker\":{\"pattern\":{\"fillmode\":\"overlay\",\"size\":10,\"solidity\":0.2}},\"type\":\"histogram\"}],\"scattergl\":[{\"type\":\"scattergl\",\"marker\":{\"colorbar\":{\"outlinewidth\":0,\"ticks\":\"\"}}}],\"scatter3d\":[{\"type\":\"scatter3d\",\"line\":{\"colorbar\":{\"outlinewidth\":0,\"ticks\":\"\"}},\"marker\":{\"colorbar\":{\"outlinewidth\":0,\"ticks\":\"\"}}}],\"scattermapbox\":[{\"type\":\"scattermapbox\",\"marker\":{\"colorbar\":{\"outlinewidth\":0,\"ticks\":\"\"}}}],\"scatterternary\":[{\"type\":\"scatterternary\",\"marker\":{\"colorbar\":{\"outlinewidth\":0,\"ticks\":\"\"}}}],\"scattercarpet\":[{\"type\":\"scattercarpet\",\"marker\":{\"colorbar\":{\"outlinewidth\":0,\"ticks\":\"\"}}}],\"carpet\":[{\"aaxis\":{\"endlinecolor\":\"#2a3f5f\",\"gridcolor\":\"white\",\"linecolor\":\"white\",\"minorgridcolor\":\"white\",\"startlinecolor\":\"#2a3f5f\"},\"baxis\":{\"endlinecolor\":\"#2a3f5f\",\"gridcolor\":\"white\",\"linecolor\":\"white\",\"minorgridcolor\":\"white\",\"startlinecolor\":\"#2a3f5f\"},\"type\":\"carpet\"}],\"table\":[{\"cells\":{\"fill\":{\"color\":\"#EBF0F8\"},\"line\":{\"color\":\"white\"}},\"header\":{\"fill\":{\"color\":\"#C8D4E3\"},\"line\":{\"color\":\"white\"}},\"type\":\"table\"}],\"barpolar\":[{\"marker\":{\"line\":{\"color\":\"#E5ECF6\",\"width\":0.5},\"pattern\":{\"fillmode\":\"overlay\",\"size\":10,\"solidity\":0.2}},\"type\":\"barpolar\"}],\"pie\":[{\"automargin\":true,\"type\":\"pie\"}]},\"layout\":{\"autotypenumbers\":\"strict\",\"colorway\":[\"#636efa\",\"#EF553B\",\"#00cc96\",\"#ab63fa\",\"#FFA15A\",\"#19d3f3\",\"#FF6692\",\"#B6E880\",\"#FF97FF\",\"#FECB52\"],\"font\":{\"color\":\"#2a3f5f\"},\"hovermode\":\"closest\",\"hoverlabel\":{\"align\":\"left\"},\"paper_bgcolor\":\"white\",\"plot_bgcolor\":\"#E5ECF6\",\"polar\":{\"bgcolor\":\"#E5ECF6\",\"angularaxis\":{\"gridcolor\":\"white\",\"linecolor\":\"white\",\"ticks\":\"\"},\"radialaxis\":{\"gridcolor\":\"white\",\"linecolor\":\"white\",\"ticks\":\"\"}},\"ternary\":{\"bgcolor\":\"#E5ECF6\",\"aaxis\":{\"gridcolor\":\"white\",\"linecolor\":\"white\",\"ticks\":\"\"},\"baxis\":{\"gridcolor\":\"white\",\"linecolor\":\"white\",\"ticks\":\"\"},\"caxis\":{\"gridcolor\":\"white\",\"linecolor\":\"white\",\"ticks\":\"\"}},\"coloraxis\":{\"colorbar\":{\"outlinewidth\":0,\"ticks\":\"\"}},\"colorscale\":{\"sequential\":[[0.0,\"#0d0887\"],[0.1111111111111111,\"#46039f\"],[0.2222222222222222,\"#7201a8\"],[0.3333333333333333,\"#9c179e\"],[0.4444444444444444,\"#bd3786\"],[0.5555555555555556,\"#d8576b\"],[0.6666666666666666,\"#ed7953\"],[0.7777777777777778,\"#fb9f3a\"],[0.8888888888888888,\"#fdca26\"],[1.0,\"#f0f921\"]],\"sequentialminus\":[[0.0,\"#0d0887\"],[0.1111111111111111,\"#46039f\"],[0.2222222222222222,\"#7201a8\"],[0.3333333333333333,\"#9c179e\"],[0.4444444444444444,\"#bd3786\"],[0.5555555555555556,\"#d8576b\"],[0.6666666666666666,\"#ed7953\"],[0.7777777777777778,\"#fb9f3a\"],[0.8888888888888888,\"#fdca26\"],[1.0,\"#f0f921\"]],\"diverging\":[[0,\"#8e0152\"],[0.1,\"#c51b7d\"],[0.2,\"#de77ae\"],[0.3,\"#f1b6da\"],[0.4,\"#fde0ef\"],[0.5,\"#f7f7f7\"],[0.6,\"#e6f5d0\"],[0.7,\"#b8e186\"],[0.8,\"#7fbc41\"],[0.9,\"#4d9221\"],[1,\"#276419\"]]},\"xaxis\":{\"gridcolor\":\"white\",\"linecolor\":\"white\",\"ticks\":\"\",\"title\":{\"standoff\":15},\"zerolinecolor\":\"white\",\"automargin\":true,\"zerolinewidth\":2},\"yaxis\":{\"gridcolor\":\"white\",\"linecolor\":\"white\",\"ticks\":\"\",\"title\":{\"standoff\":15},\"zerolinecolor\":\"white\",\"automargin\":true,\"zerolinewidth\":2},\"scene\":{\"xaxis\":{\"backgroundcolor\":\"#E5ECF6\",\"gridcolor\":\"white\",\"linecolor\":\"white\",\"showbackground\":true,\"ticks\":\"\",\"zerolinecolor\":\"white\",\"gridwidth\":2},\"yaxis\":{\"backgroundcolor\":\"#E5ECF6\",\"gridcolor\":\"white\",\"linecolor\":\"white\",\"showbackground\":true,\"ticks\":\"\",\"zerolinecolor\":\"white\",\"gridwidth\":2},\"zaxis\":{\"backgroundcolor\":\"#E5ECF6\",\"gridcolor\":\"white\",\"linecolor\":\"white\",\"showbackground\":true,\"ticks\":\"\",\"zerolinecolor\":\"white\",\"gridwidth\":2}},\"shapedefaults\":{\"line\":{\"color\":\"#2a3f5f\"}},\"annotationdefaults\":{\"arrowcolor\":\"#2a3f5f\",\"arrowhead\":0,\"arrowwidth\":1},\"geo\":{\"bgcolor\":\"white\",\"landcolor\":\"#E5ECF6\",\"subunitcolor\":\"white\",\"showland\":true,\"showlakes\":true,\"lakecolor\":\"white\"},\"title\":{\"x\":0.05},\"mapbox\":{\"style\":\"light\"}}}},                        {\"responsive\": true}                    ).then(function(){\n",
       "                            \n",
       "var gd = document.getElementById('17b36f9e-26e5-4f9f-b947-55f7ac2680bc');\n",
       "var x = new MutationObserver(function (mutations, observer) {{\n",
       "        var display = window.getComputedStyle(gd).display;\n",
       "        if (!display || display === 'none') {{\n",
       "            console.log([gd, 'removed!']);\n",
       "            Plotly.purge(gd);\n",
       "            observer.disconnect();\n",
       "        }}\n",
       "}});\n",
       "\n",
       "// Listen for the removal of the full notebook cells\n",
       "var notebookContainer = gd.closest('#notebook-container');\n",
       "if (notebookContainer) {{\n",
       "    x.observe(notebookContainer, {childList: true});\n",
       "}}\n",
       "\n",
       "// Listen for the clearing of the current output cell\n",
       "var outputEl = gd.closest('.output');\n",
       "if (outputEl) {{\n",
       "    x.observe(outputEl, {childList: true});\n",
       "}}\n",
       "\n",
       "                        })                };                });            </script>        </div>"
      ]
     },
     "metadata": {},
     "output_type": "display_data"
    },
    {
     "name": "stdout",
     "output_type": "stream",
     "text": [
      "Активности:\n",
      "Бурение_0: 1000\n",
      "['Машина_0: 100']\n",
      "\n",
      "Бурение_1: 1000\n",
      "['Машина_1: 150']\n",
      "\n",
      "Бурение_2: 1000\n",
      "['Машина_2: 200']\n",
      "\n",
      "Бурение_3: 1000\n",
      "['Машина_3: 250', 'Машина_8: 500']\n",
      "\n",
      "Бурение_4: 1000\n",
      "['Машина_5: 350']\n",
      "\n",
      "Бурение_5: 1000\n",
      "['Машина_5: 350']\n",
      "\n",
      "Бурение_6: 1000\n",
      "['Машина_6: 400']\n",
      "\n",
      "Бурение_7: 1000\n",
      "['Машина_7: 450']\n",
      "\n",
      "Бурение_8: 1000\n",
      "['Машина_8: 500']\n",
      "\n",
      "Бурение_9: 1000\n",
      "['Машина_9: 550']\n",
      "\n"
     ]
    }
   ],
   "source": [
    "# model = Model()\n",
    "# model.solve_model()\n",
    "input = ModelInput(ModelConfig)\n",
    "model = Model(input)\n",
    "model.solve_model()\n",
    "# output = ModelOutput(model, input)\n",
    "# output.create_output()\n",
    "model.output.transform_results()\n",
    "model.output.create_output()\n",
    "model.output.plot_gantt()\n",
    "model.output.print_input()\n",
    "# model.output.result_assignments_df.head()\n",
    "\n"
   ]
  },
  {
   "cell_type": "code",
   "execution_count": 133,
   "id": "a18dc9c3",
   "metadata": {},
   "outputs": [
    {
     "data": {
      "text/html": [
       "<div>\n",
       "<style scoped>\n",
       "    .dataframe tbody tr th:only-of-type {\n",
       "        vertical-align: middle;\n",
       "    }\n",
       "\n",
       "    .dataframe tbody tr th {\n",
       "        vertical-align: top;\n",
       "    }\n",
       "\n",
       "    .dataframe thead th {\n",
       "        text-align: right;\n",
       "    }\n",
       "</style>\n",
       "<table border=\"1\" class=\"dataframe\">\n",
       "  <thead>\n",
       "    <tr style=\"text-align: right;\">\n",
       "      <th></th>\n",
       "      <th>act</th>\n",
       "      <th>machine</th>\n",
       "      <th>Start</th>\n",
       "      <th>End</th>\n",
       "      <th>Frac</th>\n",
       "    </tr>\n",
       "  </thead>\n",
       "  <tbody>\n",
       "    <tr>\n",
       "      <th>29</th>\n",
       "      <td>Бурение_5</td>\n",
       "      <td>Машина_5</td>\n",
       "      <td>1</td>\n",
       "      <td>2</td>\n",
       "      <td>1.000000</td>\n",
       "    </tr>\n",
       "    <tr>\n",
       "      <th>30</th>\n",
       "      <td>Бурение_5</td>\n",
       "      <td>Машина_5</td>\n",
       "      <td>2</td>\n",
       "      <td>3</td>\n",
       "      <td>1.000000</td>\n",
       "    </tr>\n",
       "    <tr>\n",
       "      <th>25</th>\n",
       "      <td>Бурение_4</td>\n",
       "      <td>Машина_5</td>\n",
       "      <td>3</td>\n",
       "      <td>4</td>\n",
       "      <td>0.142857</td>\n",
       "    </tr>\n",
       "    <tr>\n",
       "      <th>31</th>\n",
       "      <td>Бурение_5</td>\n",
       "      <td>Машина_5</td>\n",
       "      <td>3</td>\n",
       "      <td>4</td>\n",
       "      <td>0.857143</td>\n",
       "    </tr>\n",
       "    <tr>\n",
       "      <th>26</th>\n",
       "      <td>Бурение_4</td>\n",
       "      <td>Машина_5</td>\n",
       "      <td>4</td>\n",
       "      <td>5</td>\n",
       "      <td>1.000000</td>\n",
       "    </tr>\n",
       "    <tr>\n",
       "      <th>27</th>\n",
       "      <td>Бурение_4</td>\n",
       "      <td>Машина_5</td>\n",
       "      <td>5</td>\n",
       "      <td>6</td>\n",
       "      <td>1.000000</td>\n",
       "    </tr>\n",
       "    <tr>\n",
       "      <th>28</th>\n",
       "      <td>Бурение_4</td>\n",
       "      <td>Машина_5</td>\n",
       "      <td>6</td>\n",
       "      <td>7</td>\n",
       "      <td>0.714286</td>\n",
       "    </tr>\n",
       "  </tbody>\n",
       "</table>\n",
       "</div>"
      ],
      "text/plain": [
       "          act   machine  Start  End      Frac\n",
       "29  Бурение_5  Машина_5      1    2  1.000000\n",
       "30  Бурение_5  Машина_5      2    3  1.000000\n",
       "25  Бурение_4  Машина_5      3    4  0.142857\n",
       "31  Бурение_5  Машина_5      3    4  0.857143\n",
       "26  Бурение_4  Машина_5      4    5  1.000000\n",
       "27  Бурение_4  Машина_5      5    6  1.000000\n",
       "28  Бурение_4  Машина_5      6    7  0.714286"
      ]
     },
     "execution_count": 133,
     "metadata": {},
     "output_type": "execute_result"
    }
   ],
   "source": [
    "df = model.output.result_detailed_df.copy()\n",
    "df[df['machine'].isin(['Машина_5'])].sort_values(by=['Start'])"
   ]
  },
  {
   "cell_type": "code",
   "execution_count": 84,
   "id": "6575bd41",
   "metadata": {},
   "outputs": [
    {
     "name": "stdout",
     "output_type": "stream",
     "text": [
      "{0} 0\n",
      "Interval(1.50000000000000, 2.50000000000000) 1.00000000000000\n",
      "<class 'float'>\n"
     ]
    }
   ],
   "source": [
    "a = SympyInterval(0,0)\n",
    "b = SympyInterval(1.5,2.5)\n",
    "intervals = [*[a,b]]\n",
    "u = Union(*intervals)\n",
    "\n",
    "\n",
    "for subset in u.args:\n",
    "    print(subset, subset.measure)\n",
    "    if subset.measure>0:\n",
    "        print(type(float(round(subset.start,4))))\n",
    "# model.output.result_assignments_df\n",
    "\n"
   ]
  },
  {
   "cell_type": "code",
   "execution_count": null,
   "id": "6ecc3d92",
   "metadata": {},
   "outputs": [],
   "source": []
  },
  {
   "cell_type": "code",
   "execution_count": null,
   "id": "fae94ef4",
   "metadata": {},
   "outputs": [],
   "source": []
  },
  {
   "cell_type": "code",
   "execution_count": null,
   "id": "b27ba622",
   "metadata": {},
   "outputs": [],
   "source": [
    "import matplotlib.pyplot as plt\n",
    "import matplotlib.patches as mpatches\n",
    "from pyomo.environ import value as get_value\n",
    "\n",
    "def plot_gantt_chart(model, ops, machines, T_proc, d_due, mvar, b, op_project, tol=1e-6):\n",
    "    # Формируем расписание по машинам и собираем данные для легенды.\n",
    "    schedule = {r: [] for r in machines}\n",
    "    for op in ops:\n",
    "        assigned_machine = None\n",
    "        for r in machines:\n",
    "            var_val = mvar[(op, r)].varValue\n",
    "            if var_val is None:\n",
    "                var_val = 0\n",
    "            if var_val > tol:\n",
    "                assigned_machine = r\n",
    "                break\n",
    "        if assigned_machine is None:\n",
    "            print(f\"Операция {op} не назначена ни на одну машину!\")\n",
    "            continue\n",
    "        start = b[op].varValue\n",
    "        finish = start + T_proc[op]\n",
    "        schedule[assigned_machine].append((op, start, finish, d_due[op]))\n",
    "    \n",
    "    for r in schedule:\n",
    "        schedule[r].sort(key=lambda x: x[1])\n",
    "    \n",
    "    # Определяем уникальные проекты и создаём цветовую карту.\n",
    "    unique_projects = sorted(set(op_project[op] for op in ops))\n",
    "    cmap = plt.get_cmap('tab20', len(unique_projects))\n",
    "    project_colors = {proj: cmap(i) for i, proj in enumerate(unique_projects)}\n",
    "    \n",
    "    # Рисуем диаграмму Ганта.\n",
    "    fig, ax = plt.subplots(figsize=(12, 6))\n",
    "    height = 0.8\n",
    "    yticks = []\n",
    "    yticklabels = []\n",
    "    for idx, r in enumerate(machines):\n",
    "        y = idx\n",
    "        yticks.append(y)\n",
    "        yticklabels.append(f\"Машина {r}\")\n",
    "        for op, start, finish, due in schedule[r]:\n",
    "            duration = finish - start\n",
    "            color = project_colors[op_project[op]]\n",
    "            ax.barh(y, duration, left=start, height=height, align='center', \n",
    "                    edgecolor='black', color=color)\n",
    "            ax.axvline(due, color='red', linestyle='--', linewidth=1)\n",
    "    ax.set_yticks(yticks)\n",
    "    ax.set_yticklabels(yticklabels)\n",
    "    ax.set_xlabel(\"Время\")\n",
    "    ax.set_title(\"Диаграмма Ганта операций по машинам\")\n",
    "    \n",
    "    # Создаём легенду: для каждого проекта создаём патч с соответствующим цветом.\n",
    "    patches = [mpatches.Patch(color=project_colors[proj], label=f\"Проект {proj}\") for proj in unique_projects]\n",
    "    ax.legend(handles=patches, loc='upper right', title=\"Проекты\")\n",
    "    \n",
    "    plt.tight_layout()\n",
    "    plt.show()\n"
   ]
  },
  {
   "cell_type": "code",
   "execution_count": 195,
   "id": "7728ad8e",
   "metadata": {},
   "outputs": [
    {
     "name": "stdout",
     "output_type": "stream",
     "text": [
      "57 12 140\n",
      "125 114 71\n"
     ]
    }
   ],
   "source": [
    "random.seed(42)\n",
    "print(random.randint(0, 255), random.randint(0, 255), random.randint(0, 255))\n",
    "print(random.randint(0, 255), random.randint(0, 255), random.randint(0, 255))\n",
    "# random.randint(0, 255)"
   ]
  }
 ],
 "metadata": {
  "kernelspec": {
   "display_name": "Python 3 (ipykernel)",
   "language": "python",
   "name": "python3"
  },
  "language_info": {
   "codemirror_mode": {
    "name": "ipython",
    "version": 3
   },
   "file_extension": ".py",
   "mimetype": "text/x-python",
   "name": "python",
   "nbconvert_exporter": "python",
   "pygments_lexer": "ipython3",
   "version": "3.10.5"
  }
 },
 "nbformat": 4,
 "nbformat_minor": 5
}
